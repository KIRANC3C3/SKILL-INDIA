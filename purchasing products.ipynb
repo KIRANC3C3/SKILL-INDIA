{
 "cells": [
  {
   "cell_type": "markdown",
   "metadata": {},
   "source": [
    "# read data"
   ]
  },
  {
   "cell_type": "code",
   "execution_count": 1,
   "metadata": {},
   "outputs": [],
   "source": [
    "import json\n",
    "\n",
    "fd = open(\"record.json\",'r')\n",
    "r = fd.read()\n",
    "fd.close()\n",
    "\n",
    "records = json.loads(r)"
   ]
  },
  {
   "cell_type": "code",
   "execution_count": 2,
   "metadata": {},
   "outputs": [
    {
     "data": {
      "text/plain": [
       "{'001': {'customer name': 'kiran',\n",
       "  'ph number': '9xxxxxxx11',\n",
       "  'product name': 'Choco Cake',\n",
       "  'qn': 4,\n",
       "  'pr': 100},\n",
       " '002': {'customer name': 'chandra',\n",
       "  'ph num': '9xxxxxxx21',\n",
       "  'product name': 'Cake',\n",
       "  'qn': 5,\n",
       "  'pr': 50},\n",
       " '003': {'customer name': 'kc',\n",
       "  'ph num': '9xxxxxxx31',\n",
       "  'product name': 'milk',\n",
       "  'qn': 5,\n",
       "  'pr': 20},\n",
       " '004': {'customer name': 'rohith',\n",
       "  'ph num': '9xxxxxxx41',\n",
       "  'product name': 'egg',\n",
       "  'qn': 12,\n",
       "  'pr': 100},\n",
       " '005': {'customer name': 'puppy',\n",
       "  'ph num': '9xxxxxxx51',\n",
       "  'product name': 'bottle',\n",
       "  'qn': 6,\n",
       "  'pr': 80},\n",
       " '006': {'customer name': 'likhi',\n",
       "  'ph num': '9xxxxxxx61',\n",
       "  'product name': 'beer',\n",
       "  'qn': 12,\n",
       "  'pr': 180},\n",
       " '007': {'customer name': 'manoj',\n",
       "  'ph num': '9xxxxxxx71',\n",
       "  'product name': 'pen',\n",
       "  'qn': 20,\n",
       "  'pr': 10},\n",
       " '008': {'customer name': 'samala',\n",
       "  'ph num': '9xxxxxxx81',\n",
       "  'product name': 'book',\n",
       "  'qn': 10,\n",
       "  'pr': 30},\n",
       " '009': {'customer name': 'nikhil',\n",
       "  'ph num': '9xxxxxxx91',\n",
       "  'product name': 'bag',\n",
       "  'qn': 3,\n",
       "  'pr': 100},\n",
       " '010': {'customer name': 'varun',\n",
       "  'ph num': '9xxxxxxx01',\n",
       "  'product name': 'Chips',\n",
       "  'qn': 10,\n",
       "  'pr': 20},\n",
       " '011': {'customer name': 'vinay',\n",
       "  'ph num': '9xxxxxxx22',\n",
       "  'product name': 'pillow',\n",
       "  'qn': 5,\n",
       "  'pr': 100},\n",
       " '012': {'customer name': 'sai',\n",
       "  'ph num': '9xxxxxxx33',\n",
       "  'product name': 'cap',\n",
       "  'qn': 5,\n",
       "  'pr': 150},\n",
       " '013': {'customer name': 'sumanth',\n",
       "  'ph num': '9xxxxxxx44',\n",
       "  'product name': 'mask',\n",
       "  'qn': 10,\n",
       "  'pr': 80},\n",
       " '014': {'customer name': 'chetan',\n",
       "  'ph num': '9xxxxxxx55',\n",
       "  'product name': 'shampoo',\n",
       "  'qn': 20,\n",
       "  'pr': 10},\n",
       " '015': {'customer name': 'corona',\n",
       "  'ph num': '9xxxxxxx66',\n",
       "  'product name': 'thumbs up',\n",
       "  'qn': 10,\n",
       "  'pr': 100},\n",
       " '016': {'customer name': 'bablu',\n",
       "  'ph num': '9xxxxxxx77',\n",
       "  'product name': 'apples',\n",
       "  'qn': 6,\n",
       "  'pr': 300},\n",
       " '017': {'customer name': 'pandu',\n",
       "  'ph num': '9xxxxxxx88',\n",
       "  'product name': 'bananas',\n",
       "  'qn': 12,\n",
       "  'pr': 7},\n",
       " '018': {'customer name': 'chinnu',\n",
       "  'ph num': '9xxxxxxx99',\n",
       "  'product name': 'bread',\n",
       "  'qn': 5,\n",
       "  'pr': 30},\n",
       " '019': {'customer name': 'lucky',\n",
       "  'ph num': '9xxxxxxx00',\n",
       "  'product name': 'sour cream',\n",
       "  'qn': 5,\n",
       "  'pr': 100},\n",
       " '020': {'customer name': 'pandhi',\n",
       "  'ph num': '9xxxxxxx16',\n",
       "  'product name': 'yogurt',\n",
       "  'qn': 5,\n",
       "  'pr': 30},\n",
       " '021': {'customer name': 'tinku',\n",
       "  'ph num': '7xxxxxxx11',\n",
       "  'product name': 'pen drive',\n",
       "  'qn': 5,\n",
       "  'pr': 100},\n",
       " '022': {'customer name': 'sunny',\n",
       "  'ph num': '9xxxxxxx18',\n",
       "  'product name': 'comb',\n",
       "  'qn': 5,\n",
       "  'pr': 10},\n",
       " '023': {'customer name': 'sai tharun',\n",
       "  'ph num': '6xxxxxxx22',\n",
       "  'product name': 'sugar in kg',\n",
       "  'qn': 5,\n",
       "  'pr': 40},\n",
       " '024': {'customer name': 'sai kiran',\n",
       "  'ph num': '7xxxxxxx44',\n",
       "  'product name': 'basmati rice in kg',\n",
       "  'qn': 3,\n",
       "  'pr': 100},\n",
       " '025': {'customer name': 'sai charan',\n",
       "  'ph num': '6xxxxxxx55',\n",
       "  'product name': 'maida in kg',\n",
       "  'qn': 1,\n",
       "  'pr': 80},\n",
       " '026': {'customer name': 'keerthi',\n",
       "  'ph num': '6xxxxxxx88',\n",
       "  'product name': 'Candy',\n",
       "  'qn': 10,\n",
       "  'pr': 30},\n",
       " '027': {'customer name': 'madhan',\n",
       "  'ph num': '6xxxxxxx00',\n",
       "  'product name': 'red chilli in kg',\n",
       "  'qn': 1,\n",
       "  'pr': 50},\n",
       " '028': {'customer name': 'manjula',\n",
       "  'ph num': '6xxxxxxx66',\n",
       "  'product name': 'chana dal in kg',\n",
       "  'qn': 3,\n",
       "  'pr': 50},\n",
       " '029': {'customer name': 'ajmeera',\n",
       "  'ph num': '7xxxxxxx66',\n",
       "  'product name': 'moond dal in kg',\n",
       "  'qn': 3,\n",
       "  'pr': 30},\n",
       " '030': {'customer name': 'bajendhar',\n",
       "  'ph num': '6xxxxxxx33',\n",
       "  'product name': 'salt in kg',\n",
       "  'qn': 2,\n",
       "  'pr': 30}}"
      ]
     },
     "execution_count": 2,
     "metadata": {},
     "output_type": "execute_result"
    }
   ],
   "source": [
    "records"
   ]
  },
  {
   "cell_type": "code",
   "execution_count": 3,
   "metadata": {},
   "outputs": [],
   "source": [
    "# seperating keys \n",
    "for product in records:\n",
    "    prod=product.split(\",\")"
   ]
  },
  {
   "cell_type": "code",
   "execution_count": 4,
   "metadata": {},
   "outputs": [
    {
     "data": {
      "text/plain": [
       "['030']"
      ]
     },
     "execution_count": 4,
     "metadata": {},
     "output_type": "execute_result"
    }
   ],
   "source": [
    "prod"
   ]
  },
  {
   "cell_type": "markdown",
   "metadata": {},
   "source": [
    "# Purchase"
   ]
  },
  {
   "cell_type": "code",
   "execution_count": 5,
   "metadata": {},
   "outputs": [
    {
     "name": "stdout",
     "output_type": "stream",
     "text": [
      "Enter the product_Id: 001\n",
      "Enter the quantity: 5\n",
      "***********************\n",
      "customer id :  001\n",
      "price: 100\n",
      "Quant:  5\n",
      "------------------------\n",
      "Billing Amout:  500\n",
      "***********************\n"
     ]
    }
   ],
   "source": [
    "ui_prod  = str(input(\"Enter the product_Id: \"))\n",
    "ui_quant =str(input(\"Enter the quantity: \"))\n",
    "\n",
    "\n",
    "for product in records:\n",
    "    prod=product.split(\",\")\n",
    "    \n",
    "    if(  ui_prod==prod[0]):\n",
    "        print(\"***********************\")\n",
    "        print(\"customer id : \", prod[0])\n",
    "        print(\"price:\",records[ui_prod]['pr'])\n",
    "        print(\"Quant: \",ui_quant)\n",
    "        print(\"------------------------\")\n",
    "        print(\"Billing Amout: \", int(records[ui_prod]['pr'])*int(ui_quant))\n",
    "        print(\"***********************\")\n",
    "        \n",
    "        records[ui_prod]['qn'] = int(ui_quant)-int( records[ui_prod]['qn']) "
   ]
  },
  {
   "cell_type": "code",
   "execution_count": 6,
   "metadata": {},
   "outputs": [
    {
     "data": {
      "text/plain": [
       "{'001': {'customer name': 'kiran',\n",
       "  'ph number': '9xxxxxxx11',\n",
       "  'product name': 'Choco Cake',\n",
       "  'qn': 1,\n",
       "  'pr': 100},\n",
       " '002': {'customer name': 'chandra',\n",
       "  'ph num': '9xxxxxxx21',\n",
       "  'product name': 'Cake',\n",
       "  'qn': 5,\n",
       "  'pr': 50},\n",
       " '003': {'customer name': 'kc',\n",
       "  'ph num': '9xxxxxxx31',\n",
       "  'product name': 'milk',\n",
       "  'qn': 5,\n",
       "  'pr': 20},\n",
       " '004': {'customer name': 'rohith',\n",
       "  'ph num': '9xxxxxxx41',\n",
       "  'product name': 'egg',\n",
       "  'qn': 12,\n",
       "  'pr': 100},\n",
       " '005': {'customer name': 'puppy',\n",
       "  'ph num': '9xxxxxxx51',\n",
       "  'product name': 'bottle',\n",
       "  'qn': 6,\n",
       "  'pr': 80},\n",
       " '006': {'customer name': 'likhi',\n",
       "  'ph num': '9xxxxxxx61',\n",
       "  'product name': 'beer',\n",
       "  'qn': 12,\n",
       "  'pr': 180},\n",
       " '007': {'customer name': 'manoj',\n",
       "  'ph num': '9xxxxxxx71',\n",
       "  'product name': 'pen',\n",
       "  'qn': 20,\n",
       "  'pr': 10},\n",
       " '008': {'customer name': 'samala',\n",
       "  'ph num': '9xxxxxxx81',\n",
       "  'product name': 'book',\n",
       "  'qn': 10,\n",
       "  'pr': 30},\n",
       " '009': {'customer name': 'nikhil',\n",
       "  'ph num': '9xxxxxxx91',\n",
       "  'product name': 'bag',\n",
       "  'qn': 3,\n",
       "  'pr': 100},\n",
       " '010': {'customer name': 'varun',\n",
       "  'ph num': '9xxxxxxx01',\n",
       "  'product name': 'Chips',\n",
       "  'qn': 10,\n",
       "  'pr': 20},\n",
       " '011': {'customer name': 'vinay',\n",
       "  'ph num': '9xxxxxxx22',\n",
       "  'product name': 'pillow',\n",
       "  'qn': 5,\n",
       "  'pr': 100},\n",
       " '012': {'customer name': 'sai',\n",
       "  'ph num': '9xxxxxxx33',\n",
       "  'product name': 'cap',\n",
       "  'qn': 5,\n",
       "  'pr': 150},\n",
       " '013': {'customer name': 'sumanth',\n",
       "  'ph num': '9xxxxxxx44',\n",
       "  'product name': 'mask',\n",
       "  'qn': 10,\n",
       "  'pr': 80},\n",
       " '014': {'customer name': 'chetan',\n",
       "  'ph num': '9xxxxxxx55',\n",
       "  'product name': 'shampoo',\n",
       "  'qn': 20,\n",
       "  'pr': 10},\n",
       " '015': {'customer name': 'corona',\n",
       "  'ph num': '9xxxxxxx66',\n",
       "  'product name': 'thumbs up',\n",
       "  'qn': 10,\n",
       "  'pr': 100},\n",
       " '016': {'customer name': 'bablu',\n",
       "  'ph num': '9xxxxxxx77',\n",
       "  'product name': 'apples',\n",
       "  'qn': 6,\n",
       "  'pr': 300},\n",
       " '017': {'customer name': 'pandu',\n",
       "  'ph num': '9xxxxxxx88',\n",
       "  'product name': 'bananas',\n",
       "  'qn': 12,\n",
       "  'pr': 7},\n",
       " '018': {'customer name': 'chinnu',\n",
       "  'ph num': '9xxxxxxx99',\n",
       "  'product name': 'bread',\n",
       "  'qn': 5,\n",
       "  'pr': 30},\n",
       " '019': {'customer name': 'lucky',\n",
       "  'ph num': '9xxxxxxx00',\n",
       "  'product name': 'sour cream',\n",
       "  'qn': 5,\n",
       "  'pr': 100},\n",
       " '020': {'customer name': 'pandhi',\n",
       "  'ph num': '9xxxxxxx16',\n",
       "  'product name': 'yogurt',\n",
       "  'qn': 5,\n",
       "  'pr': 30},\n",
       " '021': {'customer name': 'tinku',\n",
       "  'ph num': '7xxxxxxx11',\n",
       "  'product name': 'pen drive',\n",
       "  'qn': 5,\n",
       "  'pr': 100},\n",
       " '022': {'customer name': 'sunny',\n",
       "  'ph num': '9xxxxxxx18',\n",
       "  'product name': 'comb',\n",
       "  'qn': 5,\n",
       "  'pr': 10},\n",
       " '023': {'customer name': 'sai tharun',\n",
       "  'ph num': '6xxxxxxx22',\n",
       "  'product name': 'sugar in kg',\n",
       "  'qn': 5,\n",
       "  'pr': 40},\n",
       " '024': {'customer name': 'sai kiran',\n",
       "  'ph num': '7xxxxxxx44',\n",
       "  'product name': 'basmati rice in kg',\n",
       "  'qn': 3,\n",
       "  'pr': 100},\n",
       " '025': {'customer name': 'sai charan',\n",
       "  'ph num': '6xxxxxxx55',\n",
       "  'product name': 'maida in kg',\n",
       "  'qn': 1,\n",
       "  'pr': 80},\n",
       " '026': {'customer name': 'keerthi',\n",
       "  'ph num': '6xxxxxxx88',\n",
       "  'product name': 'Candy',\n",
       "  'qn': 10,\n",
       "  'pr': 30},\n",
       " '027': {'customer name': 'madhan',\n",
       "  'ph num': '6xxxxxxx00',\n",
       "  'product name': 'red chilli in kg',\n",
       "  'qn': 1,\n",
       "  'pr': 50},\n",
       " '028': {'customer name': 'manjula',\n",
       "  'ph num': '6xxxxxxx66',\n",
       "  'product name': 'chana dal in kg',\n",
       "  'qn': 3,\n",
       "  'pr': 50},\n",
       " '029': {'customer name': 'ajmeera',\n",
       "  'ph num': '7xxxxxxx66',\n",
       "  'product name': 'moond dal in kg',\n",
       "  'qn': 3,\n",
       "  'pr': 30},\n",
       " '030': {'customer name': 'bajendhar',\n",
       "  'ph num': '6xxxxxxx33',\n",
       "  'product name': 'salt in kg',\n",
       "  'qn': 2,\n",
       "  'pr': 30}}"
      ]
     },
     "execution_count": 6,
     "metadata": {},
     "output_type": "execute_result"
    }
   ],
   "source": [
    "records"
   ]
  },
  {
   "cell_type": "markdown",
   "metadata": {},
   "source": [
    "# update in jason file after purchase"
   ]
  },
  {
   "cell_type": "code",
   "execution_count": 7,
   "metadata": {},
   "outputs": [],
   "source": [
    "js = json.dumps(records)\n",
    "\n",
    "fd = open(\"record.json\",'w')\n",
    "fd.write(js)\n",
    "fd.close()"
   ]
  },
  {
   "cell_type": "markdown",
   "metadata": {},
   "source": [
    "# sales json"
   ]
  },
  {
   "cell_type": "code",
   "execution_count": 37,
   "metadata": {},
   "outputs": [
    {
     "name": "stdout",
     "output_type": "stream",
     "text": [
      "Enter the product_Id: 003\n",
      "Enter the quantity: 5\n"
     ]
    },
    {
     "data": {
      "text/plain": [
       "{'prod': '003', 'qn': '5', 'amount': 100}"
      ]
     },
     "execution_count": 37,
     "metadata": {},
     "output_type": "execute_result"
    }
   ],
   "source": [
    "ui_prod  = str(input(\"Enter the product_Id: \"))\n",
    "ui_quant =str(input(\"Enter the quantity: \"))\n",
    "\n",
    "x={'prod' : ui_prod, 'qn' : ui_quant, 'amount': records[ui_prod]['pr'] * int(ui_quant)}\n",
    "x\n"
   ]
  },
  {
   "cell_type": "code",
   "execution_count": 17,
   "metadata": {},
   "outputs": [],
   "source": [
    "\n",
    "sales={\n",
    "    \n",
    "    \n",
    "       1 : {'prod' : ui_prod, 'qn' : ui_quant, 'amount': records[ui_prod]['pr'] * int(ui_quant)}\n",
    "       \n",
    "}"
   ]
  },
  {
   "cell_type": "code",
   "execution_count": 41,
   "metadata": {},
   "outputs": [
    {
     "name": "stdout",
     "output_type": "stream",
     "text": [
      "(1, {'prod': '001', 'qn': '5', 'amount': 500})\n",
      "(2, {'prod': '001', 'qn': '5', 'amount': 500})\n",
      "(3, {'prod': '001', 'qn': '5', 'amount': 500})\n",
      "(4, {'prod': '001', 'qn': '5', 'amount': 500})\n",
      "(5, {'prod': '001', 'qn': '5', 'amount': 500})\n",
      "(6, {'prod': '001', 'qn': '5', 'amount': 500})\n",
      "(7, {'prod': '001', 'qn': '5', 'amount': 500})\n",
      "(8, {'prod': '001', 'qn': '5', 'amount': 500})\n",
      "(9, {'prod': '001', 'qn': '5', 'amount': 500})\n",
      "(10, {'prod': '001', 'qn': '5', 'amount': 500})\n",
      "(11, {'prod': '001', 'qn': '5', 'amount': 500})\n"
     ]
    }
   ],
   "source": [
    "for i in sales.items():\n",
    "    print(i)\n",
    "    \n",
    "    "
   ]
  },
  {
   "cell_type": "code",
   "execution_count": 45,
   "metadata": {},
   "outputs": [
    {
     "data": {
      "text/plain": [
       "{13: {'prod': '003', 'qn': '5', 'amount': 100}}"
      ]
     },
     "execution_count": 45,
     "metadata": {},
     "output_type": "execute_result"
    }
   ],
   "source": [
    "{(len(sales)+1):x}"
   ]
  },
  {
   "cell_type": "code",
   "execution_count": 46,
   "metadata": {},
   "outputs": [
    {
     "data": {
      "text/plain": [
       "{1: {'prod': '001', 'qn': '5', 'amount': 500},\n",
       " 2: {'prod': '001', 'qn': '5', 'amount': 500},\n",
       " 3: {'prod': '001', 'qn': '5', 'amount': 500},\n",
       " 4: {'prod': '001', 'qn': '5', 'amount': 500},\n",
       " 5: {'prod': '001', 'qn': '5', 'amount': 500},\n",
       " 6: {'prod': '001', 'qn': '5', 'amount': 500},\n",
       " 7: {'prod': '001', 'qn': '5', 'amount': 500},\n",
       " 8: {'prod': '001', 'qn': '5', 'amount': 500},\n",
       " 9: {'prod': '001', 'qn': '5', 'amount': 500},\n",
       " 10: {'prod': '001', 'qn': '5', 'amount': 500},\n",
       " 11: {'prod': '001', 'qn': '5', 'amount': 500},\n",
       " 12: {'prod': '003', 'qn': '5', 'amount': 100},\n",
       " 13: {'prod': '003', 'qn': '5', 'amount': 100}}"
      ]
     },
     "execution_count": 46,
     "metadata": {},
     "output_type": "execute_result"
    }
   ],
   "source": [
    "sales[(len(sales)+1)]={'prod' : ui_prod, 'qn' : ui_quant, 'amount': records[ui_prod]['pr'] * int(ui_quant)}\n",
    "sales"
   ]
  },
  {
   "cell_type": "code",
   "execution_count": 47,
   "metadata": {},
   "outputs": [
    {
     "data": {
      "text/plain": [
       "'{\"1\": {\"prod\": \"001\", \"qn\": \"5\", \"amount\": 500}, \"2\": {\"prod\": \"001\", \"qn\": \"5\", \"amount\": 500}, \"3\": {\"prod\": \"001\", \"qn\": \"5\", \"amount\": 500}, \"4\": {\"prod\": \"001\", \"qn\": \"5\", \"amount\": 500}, \"5\": {\"prod\": \"001\", \"qn\": \"5\", \"amount\": 500}, \"6\": {\"prod\": \"001\", \"qn\": \"5\", \"amount\": 500}, \"7\": {\"prod\": \"001\", \"qn\": \"5\", \"amount\": 500}, \"8\": {\"prod\": \"001\", \"qn\": \"5\", \"amount\": 500}, \"9\": {\"prod\": \"001\", \"qn\": \"5\", \"amount\": 500}, \"10\": {\"prod\": \"001\", \"qn\": \"5\", \"amount\": 500}, \"11\": {\"prod\": \"001\", \"qn\": \"5\", \"amount\": 500}, \"12\": {\"prod\": \"003\", \"qn\": \"5\", \"amount\": 100}, \"13\": {\"prod\": \"003\", \"qn\": \"5\", \"amount\": 100}}'"
      ]
     },
     "execution_count": 47,
     "metadata": {},
     "output_type": "execute_result"
    }
   ],
   "source": [
    "sale = json.dumps(sales)\n",
    "sale"
   ]
  },
  {
   "cell_type": "code",
   "execution_count": 49,
   "metadata": {},
   "outputs": [],
   "source": [
    "fd=open(\"sales.json\",'w')\n",
    "fd.write(sale)\n",
    "fd.close()\n",
    "\n"
   ]
  },
  {
   "cell_type": "code",
   "execution_count": 50,
   "metadata": {},
   "outputs": [
    {
     "data": {
      "text/plain": [
       "'{\"1\": {\"prod\": \"001\", \"qn\": \"5\", \"amount\": 500}, \"2\": {\"prod\": \"001\", \"qn\": \"5\", \"amount\": 500}, \"3\": {\"prod\": \"001\", \"qn\": \"5\", \"amount\": 500}, \"4\": {\"prod\": \"001\", \"qn\": \"5\", \"amount\": 500}, \"5\": {\"prod\": \"001\", \"qn\": \"5\", \"amount\": 500}, \"6\": {\"prod\": \"001\", \"qn\": \"5\", \"amount\": 500}, \"7\": {\"prod\": \"001\", \"qn\": \"5\", \"amount\": 500}, \"8\": {\"prod\": \"001\", \"qn\": \"5\", \"amount\": 500}, \"9\": {\"prod\": \"001\", \"qn\": \"5\", \"amount\": 500}, \"10\": {\"prod\": \"001\", \"qn\": \"5\", \"amount\": 500}, \"11\": {\"prod\": \"001\", \"qn\": \"5\", \"amount\": 500}, \"12\": {\"prod\": \"003\", \"qn\": \"5\", \"amount\": 100}, \"13\": {\"prod\": \"003\", \"qn\": \"5\", \"amount\": 100}}'"
      ]
     },
     "execution_count": 50,
     "metadata": {},
     "output_type": "execute_result"
    }
   ],
   "source": [
    "sale"
   ]
  },
  {
   "cell_type": "code",
   "execution_count": null,
   "metadata": {},
   "outputs": [],
   "source": []
  },
  {
   "cell_type": "code",
   "execution_count": null,
   "metadata": {},
   "outputs": [],
   "source": []
  }
 ],
 "metadata": {
  "kernelspec": {
   "display_name": "Python 3",
   "language": "python",
   "name": "python3"
  },
  "language_info": {
   "codemirror_mode": {
    "name": "ipython",
    "version": 3
   },
   "file_extension": ".py",
   "mimetype": "text/x-python",
   "name": "python",
   "nbconvert_exporter": "python",
   "pygments_lexer": "ipython3",
   "version": "3.8.5"
  }
 },
 "nbformat": 4,
 "nbformat_minor": 4
}
